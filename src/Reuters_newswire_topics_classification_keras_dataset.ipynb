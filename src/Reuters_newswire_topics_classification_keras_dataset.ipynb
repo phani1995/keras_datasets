{
 "cells": [
  {
   "cell_type": "markdown",
   "metadata": {},
   "source": [
    "# Imports\n",
    "\n",
    "`numpy`      package for array handling  \n",
    "`pandas`     import to create and modify dataframes     \n",
    "`matplotlib` package for data visulization  \n",
    "`seaborn`    build on matploblib, higher level graph functions"
   ]
  },
  {
   "cell_type": "code",
   "execution_count": 1,
   "metadata": {},
   "outputs": [],
   "source": [
    "# Imports\n",
    "import numpy as np\n",
    "import pandas as pd\n",
    "import matplotlib.pyplot as plt\n",
    "import seaborn as sns"
   ]
  },
  {
   "cell_type": "markdown",
   "metadata": {},
   "source": [
    "# Loading the data\n",
    "Here we are taking the inbuilt function of keras to load the data from the server  \n",
    "The dataset file in present in the [Link to dataset in amazon server](https://s3.amazonaws.com/text-datasets/reuters.npz)  \n",
    "The inbuilt code \n",
    "```python\n",
    "def load_data(path='reuters.npz', num_words=None, skip_top=0,\n",
    "              maxlen=None, test_split=0.2, seed=113,\n",
    "              start_char=1, oov_char=2, index_from=3, **kwargs):\n",
    "    \"\"\"Loads the Reuters newswire classification dataset.\n",
    "    # Arguments\n",
    "        path: where to cache the data (relative to `~/.keras/dataset`).\n",
    "        num_words: max number of words to include. Words are ranked\n",
    "            by how often they occur (in the training set) and only\n",
    "            the most frequent words are kept\n",
    "        skip_top: skip the top N most frequently occurring words\n",
    "            (which may not be informative).\n",
    "        maxlen: truncate sequences after this length.\n",
    "        test_split: Fraction of the dataset to be used as test data.\n",
    "        seed: random seed for sample shuffling.\n",
    "        start_char: The start of a sequence will be marked with this character.\n",
    "            Set to 1 because 0 is usually the padding character.\n",
    "        oov_char: words that were cut out because of the `num_words`\n",
    "            or `skip_top` limit will be replaced with this character.\n",
    "        index_from: index actual words with this index and higher.\n",
    "    # Returns\n",
    "        Tuple of Numpy arrays: `(x_train, y_train), (x_test, y_test)`.\n",
    "    Note that the 'out of vocabulary' character is only used for\n",
    "    words that were present in the training set but are not included\n",
    "    because they're not making the `num_words` cut here.\n",
    "    Words that were not seen in the training set but are in the test set\n",
    "    have simply been skipped.\n",
    "    \"\"\"\n",
    "    # Legacy support\n",
    "    if 'nb_words' in kwargs:\n",
    "        warnings.warn('The `nb_words` argument in `load_data` '\n",
    "                      'has been renamed `num_words`.')\n",
    "        num_words = kwargs.pop('nb_words')\n",
    "    if kwargs:\n",
    "        raise TypeError('Unrecognized keyword arguments: ' + str(kwargs))\n",
    "\n",
    "    path = get_file(path,\n",
    "                    origin='https://s3.amazonaws.com/text-datasets/reuters.npz',\n",
    "                    file_hash='87aedbeb0cb229e378797a632c1997b6')\n",
    "    with np.load(path) as f:\n",
    "        xs, labels = f['x'], f['y']\n",
    "\n",
    "    np.random.seed(seed)\n",
    "    indices = np.arange(len(xs))\n",
    "    np.random.shuffle(indices)\n",
    "    xs = xs[indices]\n",
    "    labels = labels[indices]\n",
    "\n",
    "    if start_char is not None:\n",
    "        xs = [[start_char] + [w + index_from for w in x] for x in xs]\n",
    "    elif index_from:\n",
    "        xs = [[w + index_from for w in x] for x in xs]\n",
    "\n",
    "    if maxlen:\n",
    "        xs, labels = _remove_long_seq(maxlen, xs, labels)\n",
    "\n",
    "    if not num_words:\n",
    "        num_words = max([max(x) for x in xs])\n",
    "\n",
    "    # by convention, use 2 as OOV word\n",
    "    # reserve 'index_from' (=3 by default) characters:\n",
    "    # 0 (padding), 1 (start), 2 (OOV)\n",
    "    if oov_char is not None:\n",
    "        xs = [[w if skip_top <= w < num_words else oov_char for w in x] for x in xs]\n",
    "    else:\n",
    "        xs = [[w for w in x if skip_top <= w < num_words] for x in xs]\n",
    "\n",
    "    idx = int(len(xs) * (1 - test_split))\n",
    "    x_train, y_train = np.array(xs[:idx]), np.array(labels[:idx])\n",
    "    x_test, y_test = np.array(xs[idx:]), np.array(labels[idx:])\n",
    "\n",
    "    return (x_train, y_train), (x_test, y_test)\n",
    "\n",
    "\n",
    "def get_word_index(path='reuters_word_index.json'):\n",
    "    \"\"\"Retrieves the dictionary mapping words to word indices.\n",
    "    # Arguments\n",
    "        path: where to cache the data (relative to `~/.keras/dataset`).\n",
    "    # Returns\n",
    "        The word index dictionary.\n",
    "    \"\"\"\n",
    "    path = get_file(\n",
    "        path,\n",
    "        origin='https://s3.amazonaws.com/text-datasets/reuters_word_index.json',\n",
    "        file_hash='4d44cc38712099c9e383dc6e5f11a921')\n",
    "    f = open(path)\n",
    "    data = json.load(f)\n",
    "    f.close()\n",
    "    return data\n",
    "```\n",
    "## Regarding Dataset\n",
    "This dataset contains of newswires from retuers of 46 different classes. The number of samples are 11,228.\n",
    "\n",
    "[official Link](https://archive.ics.uci.edu/ml/datasets/reuters-21578+text+categorization+collection)   \n"
   ]
  },
  {
   "cell_type": "code",
   "execution_count": 2,
   "metadata": {},
   "outputs": [
    {
     "name": "stderr",
     "output_type": "stream",
     "text": [
      "Using TensorFlow backend.\n"
     ]
    }
   ],
   "source": [
    "# Loading the data\n",
    "from keras.datasets import reuters\n",
    "(x_train, y_train), (x_test, y_test) = reuters.load_data(path=\"reuters.npz\",num_words=10000,skip_top=0,maxlen=None,test_split=0.2,seed=113,start_char=1,oov_char=2,index_from=3)\n"
   ]
  },
  {
   "cell_type": "markdown",
   "metadata": {},
   "source": [
    "# Understand the dataset\n",
    "Let see the size and shape of test and training tuples\n",
    "\n",
    "``On Execution``  \n",
    "There will be 8982 samples of word embeddings list in training set  \n",
    "There will be 2246 samples of word embeddings list in testing set"
   ]
  },
  {
   "cell_type": "code",
   "execution_count": 3,
   "metadata": {},
   "outputs": [
    {
     "name": "stdout",
     "output_type": "stream",
     "text": [
      "The number of training samples 8982\n",
      "The number of testing samples 2246\n",
      "The shape of training samples array (8982,)\n",
      "The shape of training samples labels (8982,)\n",
      "First element in x_train ,its type : <class 'list'> it's shape : (87,)\n"
     ]
    }
   ],
   "source": [
    "# Understanding the data\n",
    "print(\"The number of training samples\",len(x_train))\n",
    "print(\"The number of testing samples\",len(x_test))\n",
    "print(\"The shape of training samples array\",np.shape(x_train))\n",
    "print(\"The shape of training samples labels\", np.shape(y_train))\n",
    "print(\"First element in x_train ,its type :\",type(x_train[0]),\"it's shape :\",np.shape(x_train[0]))"
   ]
  },
  {
   "cell_type": "markdown",
   "metadata": {},
   "source": [
    "# Visualizing the data\n",
    "Let us try to visualise the few samples of data so, we could get an idea of how the data looks like  \n",
    "`On Execution`  \n",
    "We can see first two newswires. \n",
    "> Note: on loading the dataset we load the word embedding, to convert into the actual newswires we take the help of word to index dictonary to convert the given words embedding to actual news writings."
   ]
  },
  {
   "cell_type": "code",
   "execution_count": 4,
   "metadata": {},
   "outputs": [
    {
     "name": "stdout",
     "output_type": "stream",
     "text": [
      "\n",
      "First Review \n",
      "\n",
      "the of of mln loss for plc said at only ended said commonwealth could 1 traders now april 0 a after said from 1985 and from foreign 000 april 0 prices its account year a but in this mln home an states earlier and rise and revs vs 000 its 16 vs 000 a but 3 psbr oils several and shareholders and dividend vs 000 its all 4 vs 000 1 mln agreed largely april 0 are 2 states will billion total and against 000 pct dlrs\n",
      "\n",
      "Its label : 3\n",
      "\n",
      "Second Review \n",
      "\n",
      "the termination payment airport takes 6 of geological 3 6 602 begin up said fully bank expects commodity total is giant a of this takes of series termination payment airport mln a for capital 1 pre 50 american east said in council takes of of france a but u any 4 s 1st losses pct dlrs\n",
      "\n",
      "Its label : 4\n"
     ]
    }
   ],
   "source": [
    "# Data Visulization\n",
    "\n",
    "# A dictionary mapping words to an integer index\n",
    "word_index = reuters.get_word_index()\n",
    "reverse_word_index = dict([(value, key) for (key, value) in word_index.items()]) # Reversed dictionary\n",
    "\n",
    "def decode_review(text):\n",
    "    return ' '.join([reverse_word_index.get(i, '?') for i in text])\n",
    "\n",
    "## Viewing the review's\n",
    "print('\\nFirst Review \\n')\n",
    "print(decode_review(x_train[0]))\n",
    "print('\\nIts label :',y_train[0])\n",
    "\n",
    "print('\\nSecond Review \\n')\n",
    "print(decode_review(x_train[1]))\n",
    "print('\\nIts label :',y_train[1])\n",
    " "
   ]
  },
  {
   "cell_type": "markdown",
   "metadata": {},
   "source": [
    "# Preprocessing the data\n",
    "\n",
    "## Padding\n",
    "Each newswire in the dataset would have a different size but, in a neural network model would like to have all its inputs of same size for that we all padding to the reviews.  \n",
    "We make sure all the embeddings have the same length of max lenght i.e. 256 (for this dataset).   \n",
    "For embeddings longer than 256 the enddings will be chopped off.   \n",
    "For embeddings shorter than 256 '0' (zeros) would be \n",
    "> Note: On adding 0 to the embeddings we are not creating a new word in the embedding. The dataset doesn't assign any word to the value 0 . 0 is some kind of unknown word which we use as padding."
   ]
  },
  {
   "cell_type": "code",
   "execution_count": 5,
   "metadata": {},
   "outputs": [],
   "source": [
    "# Data Preprocessing\n",
    "\n",
    "##Varibles\n",
    "classes = 46\n",
    "\n",
    "## Padding\n",
    "from keras.preprocessing.sequence import pad_sequences\n",
    "x_train_padded = pad_sequences(x_train,value=0,padding='post',maxlen=256)\n",
    "x_test_padded =  pad_sequences(x_test,value=0,padding='post',maxlen=256)\n",
    "\n",
    "## Creating sparse vector representation\n",
    "from keras.utils import to_categorical\n",
    "y_train_sparse = to_categorical(y_train,num_classes=classes)\n",
    "y_test_sparse = to_categorical(y_test,num_classes=classes)"
   ]
  },
  {
   "cell_type": "markdown",
   "metadata": {},
   "source": [
    "# Training varibles\n",
    "These Training varbles are hyper parameters for neural network training.   \n",
    "`epochs` : each epoch is forward propagation + backward propagation over the whole dataset once is called one epoch.  \n",
    "`learning_rate` : the magnitude in which the weights are modified one the acquired loss.   \n",
    "`learning_rate_decay` : there can be high leanring rate at the beining of the training when the loss is high. Over a period of time the learning rate can reduce for fine training of network.  \n",
    "`batch_size` : the data is fed to the network in batches of 32 samples at each time. This batch feeding is done all over the whole dataset.  \n",
    "`vocab_size` : vocab size is the total number of words present in the dictonary. This size would represent the input size to the nural network model"
   ]
  },
  {
   "cell_type": "code",
   "execution_count": 6,
   "metadata": {},
   "outputs": [],
   "source": [
    "# Training varibles\n",
    "learning_rate = 0.0005\n",
    "learning_rate_decay = 0.00001\n",
    "batch_size = 512\n",
    "epochs = 30\n",
    "\n",
    "# input shape is the vocabulary count used for the movie reviews (10,000 words)\n",
    "vocab_size = 10000"
   ]
  },
  {
   "cell_type": "markdown",
   "metadata": {},
   "source": [
    "# Neural Netowork Model\n",
    "`Line 6` : we are building a keras sequential model  \n",
    "`Line 17` : we are using stochastic gradient decent optimizer  \n",
    "`Line 19` : compiling the model to check if the model is build properly.  \n",
    "\n",
    "The loss function being used is `categorical_crossentropy` since its a multi class classification    \n",
    "`model.summary()` would just describe the layers in the model."
   ]
  },
  {
   "cell_type": "code",
   "execution_count": 7,
   "metadata": {},
   "outputs": [
    {
     "name": "stdout",
     "output_type": "stream",
     "text": [
      "_________________________________________________________________\n",
      "Layer (type)                 Output Shape              Param #   \n",
      "=================================================================\n",
      "embedding_1 (Embedding)      (None, None, 512)         5120000   \n",
      "_________________________________________________________________\n",
      "global_average_pooling1d_1 ( (None, 512)               0         \n",
      "_________________________________________________________________\n",
      "dense_1 (Dense)              (None, 256)               131328    \n",
      "_________________________________________________________________\n",
      "dropout_1 (Dropout)          (None, 256)               0         \n",
      "_________________________________________________________________\n",
      "dense_2 (Dense)              (None, 46)                11822     \n",
      "=================================================================\n",
      "Total params: 5,263,150\n",
      "Trainable params: 5,263,150\n",
      "Non-trainable params: 0\n",
      "_________________________________________________________________\n"
     ]
    }
   ],
   "source": [
    "# Building the model\n",
    "\n",
    "from keras.models import Sequential\n",
    "from keras.layers import Embedding,GlobalAveragePooling1D,Dense,Dropout\n",
    "from keras.optimizers import Adam\n",
    "\n",
    "model = Sequential()\n",
    "model.add(Embedding(vocab_size, 512))\n",
    "model.add(GlobalAveragePooling1D())\n",
    "model.add(Dense(256, activation = 'relu'))\n",
    "model.add(Dropout(0.3))\n",
    "model.add(Dense(46, activation = 'sigmoid'))\n",
    "\n",
    "model.summary()\n",
    "\n",
    "# optimizer\n",
    "optimizer = Adam(lr=learning_rate, beta_1=0.9, beta_2=0.999, epsilon=None, decay=learning_rate_decay, amsgrad=False)\n",
    "\n",
    "# Model Compilation\n",
    "model.compile(optimizer=optimizer,loss='categorical_crossentropy',metrics=['accuracy'])\n"
   ]
  },
  {
   "cell_type": "markdown",
   "metadata": {},
   "source": [
    "# Training \n",
    "Training is the process of feeding the data to neural network and modifiying the weights of the model using the the backpropagation algorithm. The backpropagation using loss the function acquires the loss over batch size of data and does a backpropagation to modify the weights in such a way the in the next epoch the loss would be less when compared to the current epoch"
   ]
  },
  {
   "cell_type": "code",
   "execution_count": 8,
   "metadata": {},
   "outputs": [
    {
     "name": "stdout",
     "output_type": "stream",
     "text": [
      "Train on 8982 samples, validate on 2246 samples\n",
      "Epoch 1/30\n",
      "8982/8982 [==============================] - 7s 740us/step - loss: 3.7463 - acc: 0.3317 - val_loss: 3.6337 - val_acc: 0.3785\n",
      "Epoch 2/30\n",
      "8982/8982 [==============================] - 2s 193us/step - loss: 3.4892 - acc: 0.3640 - val_loss: 3.2866 - val_acc: 0.3798\n",
      "Epoch 3/30\n",
      "8982/8982 [==============================] - 2s 193us/step - loss: 3.0467 - acc: 0.3511 - val_loss: 2.7812 - val_acc: 0.3882\n",
      "Epoch 4/30\n",
      "8982/8982 [==============================] - 2s 193us/step - loss: 2.6398 - acc: 0.3090 - val_loss: 2.5533 - val_acc: 0.3838\n",
      "Epoch 5/30\n",
      "8982/8982 [==============================] - 2s 193us/step - loss: 2.4621 - acc: 0.3210 - val_loss: 2.3713 - val_acc: 0.3629\n",
      "Epoch 6/30\n",
      "8982/8982 [==============================] - 2s 193us/step - loss: 2.3571 - acc: 0.3437 - val_loss: 2.3178 - val_acc: 0.3624\n",
      "Epoch 7/30\n",
      "8982/8982 [==============================] - 2s 193us/step - loss: 2.3186 - acc: 0.3415 - val_loss: 2.2884 - val_acc: 0.3758\n",
      "Epoch 8/30\n",
      "8982/8982 [==============================] - 2s 193us/step - loss: 2.2850 - acc: 0.3387 - val_loss: 2.2550 - val_acc: 0.3753\n",
      "Epoch 9/30\n",
      "8982/8982 [==============================] - 2s 193us/step - loss: 2.2488 - acc: 0.3466 - val_loss: 2.2203 - val_acc: 0.3776\n",
      "Epoch 10/30\n",
      "8982/8982 [==============================] - 2s 194us/step - loss: 2.2094 - acc: 0.3552 - val_loss: 2.1863 - val_acc: 0.3767\n",
      "Epoch 11/30\n",
      "8982/8982 [==============================] - 2s 193us/step - loss: 2.1702 - acc: 0.3595 - val_loss: 2.1478 - val_acc: 0.3771\n",
      "Epoch 12/30\n",
      "8982/8982 [==============================] - 2s 193us/step - loss: 2.1286 - acc: 0.3637 - val_loss: 2.1056 - val_acc: 0.3807\n",
      "Epoch 13/30\n",
      "8982/8982 [==============================] - 2s 194us/step - loss: 2.0775 - acc: 0.3736 - val_loss: 2.0431 - val_acc: 0.3891\n",
      "Epoch 14/30\n",
      "8982/8982 [==============================] - 2s 193us/step - loss: 2.0032 - acc: 0.3907 - val_loss: 1.9561 - val_acc: 0.4083\n",
      "Epoch 15/30\n",
      "8982/8982 [==============================] - 2s 193us/step - loss: 1.9277 - acc: 0.4158 - val_loss: 1.8757 - val_acc: 0.4297\n",
      "Epoch 16/30\n",
      "8982/8982 [==============================] - 2s 193us/step - loss: 1.8504 - acc: 0.4442 - val_loss: 1.8061 - val_acc: 0.4586\n",
      "Epoch 17/30\n",
      "8982/8982 [==============================] - 2s 193us/step - loss: 1.7785 - acc: 0.4837 - val_loss: 1.7350 - val_acc: 0.5432\n",
      "Epoch 18/30\n",
      "8982/8982 [==============================] - 2s 193us/step - loss: 1.6959 - acc: 0.5363 - val_loss: 1.6635 - val_acc: 0.5539\n",
      "Epoch 19/30\n",
      "8982/8982 [==============================] - 2s 193us/step - loss: 1.6160 - acc: 0.5661 - val_loss: 1.5940 - val_acc: 0.6051\n",
      "Epoch 20/30\n",
      "8982/8982 [==============================] - 2s 194us/step - loss: 1.5215 - acc: 0.6127 - val_loss: 1.5242 - val_acc: 0.6469\n",
      "Epoch 21/30\n",
      "8982/8982 [==============================] - 2s 194us/step - loss: 1.4473 - acc: 0.6434 - val_loss: 1.4583 - val_acc: 0.6558\n",
      "Epoch 22/30\n",
      "8982/8982 [==============================] - 2s 194us/step - loss: 1.3647 - acc: 0.6642 - val_loss: 1.3971 - val_acc: 0.6692\n",
      "Epoch 23/30\n",
      "8982/8982 [==============================] - 2s 195us/step - loss: 1.2895 - acc: 0.6837 - val_loss: 1.3458 - val_acc: 0.6745\n",
      "Epoch 24/30\n",
      "8982/8982 [==============================] - 2s 194us/step - loss: 1.2283 - acc: 0.6971 - val_loss: 1.3047 - val_acc: 0.6790\n",
      "Epoch 25/30\n",
      "8982/8982 [==============================] - 2s 193us/step - loss: 1.1700 - acc: 0.7099 - val_loss: 1.2711 - val_acc: 0.6817\n",
      "Epoch 26/30\n",
      "8982/8982 [==============================] - 2s 193us/step - loss: 1.1207 - acc: 0.7196 - val_loss: 1.2422 - val_acc: 0.6910\n",
      "Epoch 27/30\n",
      "8982/8982 [==============================] - 2s 193us/step - loss: 1.0774 - acc: 0.7286 - val_loss: 1.2149 - val_acc: 0.7004\n",
      "Epoch 28/30\n",
      "8982/8982 [==============================] - 2s 192us/step - loss: 1.0383 - acc: 0.7400 - val_loss: 1.1934 - val_acc: 0.7097\n",
      "Epoch 29/30\n",
      "8982/8982 [==============================] - 2s 193us/step - loss: 1.0001 - acc: 0.7475 - val_loss: 1.1736 - val_acc: 0.7146\n",
      "Epoch 30/30\n",
      "8982/8982 [==============================] - 2s 193us/step - loss: 0.9701 - acc: 0.7567 - val_loss: 1.1561 - val_acc: 0.7191\n"
     ]
    }
   ],
   "source": [
    "# Training the model\n",
    "model_history = model.fit(x_train_padded,y_train_sparse,epochs=epochs,batch_size=batch_size,validation_data=(x_test_padded, y_test_sparse),verbose=1)"
   ]
  },
  {
   "cell_type": "markdown",
   "metadata": {},
   "source": [
    "# Results\n",
    "using the trained model we try to predict what are the catogories of newswires in the test set"
   ]
  },
  {
   "cell_type": "code",
   "execution_count": 9,
   "metadata": {},
   "outputs": [],
   "source": [
    "# Results\n",
    "y_pred = model.predict(x_test_padded)"
   ]
  },
  {
   "cell_type": "markdown",
   "metadata": {},
   "source": [
    "# Visulizing the results\n",
    "checking the results by visulizing them and creating a confusion matrix. The values of precession and accuracy can be obtained by the help of confusion matrix and f1 scores to compare this architecure with other architectures of neural networks"
   ]
  },
  {
   "cell_type": "code",
   "execution_count": 10,
   "metadata": {},
   "outputs": [
    {
     "name": "stdout",
     "output_type": "stream",
     "text": [
      "Predicted  1    3    4   8   9   10  11  13  16  18   19  20  21  25  30\n",
      "Actual                                                                  \n",
      "0           5    0    1   0   5   0   0   0   0   0    0   0   1   0   0\n",
      "1          88    3    8   0   1   0   3   0   1   1    0   0   0   0   0\n",
      "2          16    0    0   0   1   0   2   1   0   0    0   0   0   0   0\n",
      "3           5  763   35   1   0   0   1   1   2   0    4   0   1   0   0\n",
      "4           4   17  434   0   0   0   5   3   6   0    4   1   0   0   0\n",
      "5           5    0    0   0   0   0   0   0   0   0    0   0   0   0   0\n",
      "6           0    1    3   0   1   0   0   1   1   1    0   0   0   6   0\n",
      "7           0    1    0   1   0   0   0   0   0   1    0   0   0   0   0\n",
      "8           0    9    3  15   1   0   0   0   0   0    8   2   0   0   0\n",
      "9           8    0    2   1  12   0   1   1   0   0    0   0   0   0   0\n",
      "10         25    1    1   0   0   1   1   1   0   0    0   0   0   0   0\n",
      "11          7    2    6   0   0   0  59   1   0   0    8   0   0   0   0\n",
      "12          0    0    1   1   0   0   1   1   0   0    9   0   0   0   0\n",
      "13          3    1    3   0   0   0   0  17  13   0    0   0   0   0   0\n",
      "14          1    0    0   0   0   0   1   0   0   0    0   0   0   0   0\n",
      "15          6    0    0   0   0   0   0   2   1   0    0   0   0   0   0\n",
      "16          0   10    7   0   0   0   2   1  78   0    1   0   0   0   0\n",
      "17          0    1    4   0   0   0   0   0   7   0    0   0   0   0   0\n",
      "18          0    3    1   1   0   0   1   0   0  10    0   1   3   0   0\n",
      "19          2    7    5   4   0   0   8   1   0   0  100   3   3   0   0\n",
      "20          0    6   14   0   0   0   1   0   1   0   33  14   1   0   0\n",
      "21          0    1    0   1   0   0   5   0   0   0    1   2  17   0   0\n",
      "22          5    0    1   0   0   0   0   0   0   1    0   0   0   0   0\n",
      "23          2    3    2   0   1   0   0   3   0   0    1   0   0   0   0\n",
      "24         16    1    1   0   0   0   0   1   0   0    0   0   0   0   0\n",
      "25          1    6    7   1   1   0   0   1   4   0    2   0   1   7   0\n",
      "26          2    0    0   0   4   0   0   1   0   0    1   0   0   0   0\n",
      "27          1    0    1   0   0   0   1   1   0   0    0   0   0   0   0\n",
      "28          5    0    1   0   1   0   1   1   0   1    0   0   0   0   0\n",
      "29          0    1    0   1   0   0   0   0   0   1    0   0   1   0   0\n",
      "30          0    2    0   2   0   0   1   0   0   2    0   1   4   0   0\n",
      "31          2    4    2   0   0   0   0   2   3   0    0   0   0   0   0\n",
      "32          3    0    1   0   6   0   0   0   0   0    0   0   0   0   0\n",
      "33          0    0    0   0   0   0   0   0   5   0    0   0   0   0   0\n",
      "34          0    1    1   0   0   0   1   0   0   3    0   0   0   0   1\n",
      "35          0    0    0   2   0   0   1   0   0   1    0   1   1   0   0\n",
      "36          0    0    0   0   0   0  10   0   0   0    0   0   1   0   0\n",
      "37          0    1    0   0   0   0   0   0   0   1    0   0   0   0   0\n",
      "38          2    0    1   0   0   0   0   0   0   0    0   0   0   0   0\n",
      "39          0    0    2   0   0   0   1   1   1   0    0   0   0   0   0\n",
      "40          0    1    0   0   0   0   0   0   0   0    9   0   0   0   0\n",
      "41          0    0    5   0   0   0   0   0   3   0    0   0   0   0   0\n",
      "42          0    0    0   0   2   0   0   0   0   0    0   0   0   1   0\n",
      "43          0    1    0   0   0   0   0   0   0   3    0   0   1   0   1\n",
      "44          4    1    0   0   0   0   0   0   0   0    0   0   0   0   0\n",
      "45          0    0    0   0   0   0   0   0   0   0    0   0   0   1   0\n"
     ]
    },
    {
     "data": {
      "text/plain": [
       "<matplotlib.axes._subplots.AxesSubplot at 0x2130c39ff98>"
      ]
     },
     "execution_count": 10,
     "metadata": {},
     "output_type": "execute_result"
    },
    {
     "data": {
      "image/png": "[encoded data removed]",
      "text/plain": [
       "<Figure size 1440x1440 with 2 Axes>"
      ]
     },
     "metadata": {
      "needs_background": "light"
     },
     "output_type": "display_data"
    }
   ],
   "source": [
    "# Visulizing the results\n",
    "y_pred = np.argmax(y_pred,axis=1)\n",
    "y_pred = pd.Series(y_pred, name='Predicted')\n",
    "y_test = pd.Series(y_test, name='Actual')\n",
    "df_confusion  = pd.crosstab(y_test,y_pred, rownames=['Actual'], colnames=['Predicted'])\n",
    "print(df_confusion)\n",
    "plt.figure(figsize = (20,20))\n",
    "plt.xlabel('xlabel', fontsize=18)\n",
    "plt.ylabel('ylabel', fontsize=18)\n",
    "plt.title('Confusion Matrix',fontsize=20)\n",
    "sns.heatmap(df_confusion, annot=True,fmt=\"d\")"
   ]
  }
 ],
 "metadata": {
  "kernelspec": {
   "display_name": "Python 3",
   "language": "python",
   "name": "python3"
  },
  "language_info": {
   "codemirror_mode": {
    "name": "ipython",
    "version": 3
   },
   "file_extension": ".py",
   "mimetype": "text/x-python",
   "name": "python",
   "nbconvert_exporter": "python",
   "pygments_lexer": "ipython3",
   "version": "3.6.7"
  }
 },
 "nbformat": 4,
 "nbformat_minor": 2
}
