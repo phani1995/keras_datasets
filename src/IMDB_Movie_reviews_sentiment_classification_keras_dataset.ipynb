{
 "cells": [
  {
   "cell_type": "markdown",
   "metadata": {},
   "source": [
    "# Imports\n",
    "\n",
    "`numpy`      package for array handling  \n",
    "`pandas`     import to create and modify dataframes     \n",
    "`matplotlib` package for data visulization  \n",
    "`seaborn`    build on matploblib, higher level graph functions"
   ]
  },
  {
   "cell_type": "code",
   "execution_count": 1,
   "metadata": {},
   "outputs": [],
   "source": [
    "# Imports\n",
    "import numpy as np\n",
    "import pandas as pd\n",
    "import matplotlib.pyplot as plt\n",
    "import seaborn as sns"
   ]
  },
  {
   "cell_type": "markdown",
   "metadata": {},
   "source": [
    "# Loading the data\n",
    "Here we are taking the inbuilt function of keras to load the data from the server  \n",
    "The dataset file in present in the [Link to dataset in amazon server](https://s3.amazonaws.com/text-datasets/imdb.npz)  \n",
    "The inbuilt code \n",
    "```python\n",
    "def load_data(path='imdb.npz', num_words=None, skip_top=0,\n",
    "              maxlen=None, seed=113,\n",
    "              start_char=1, oov_char=2, index_from=3, **kwargs):\n",
    "    \"\"\"Loads the IMDB dataset.\n",
    "    # Arguments\n",
    "        path: where to cache the data (relative to `~/.keras/dataset`).\n",
    "        num_words: max number of words to include. Words are ranked\n",
    "            by how often they occur (in the training set) and only\n",
    "            the most frequent words are kept\n",
    "        skip_top: skip the top N most frequently occurring words\n",
    "            (which may not be informative).\n",
    "        maxlen: sequences longer than this will be filtered out.\n",
    "        seed: random seed for sample shuffling.\n",
    "        start_char: The start of a sequence will be marked with this character.\n",
    "            Set to 1 because 0 is usually the padding character.\n",
    "        oov_char: words that were cut out because of the `num_words`\n",
    "            or `skip_top` limit will be replaced with this character.\n",
    "        index_from: index actual words with this index and higher.\n",
    "    # Returns\n",
    "        Tuple of Numpy arrays: `(x_train, y_train), (x_test, y_test)`.\n",
    "    # Raises\n",
    "        ValueError: in case `maxlen` is so low\n",
    "            that no input sequence could be kept.\n",
    "    Note that the 'out of vocabulary' character is only used for\n",
    "    words that were present in the training set but are not included\n",
    "    because they're not making the `num_words` cut here.\n",
    "    Words that were not seen in the training set but are in the test set\n",
    "    have simply been skipped.\n",
    "    \"\"\"\n",
    "    # Legacy support\n",
    "    if 'nb_words' in kwargs:\n",
    "        warnings.warn('The `nb_words` argument in `load_data` '\n",
    "                      'has been renamed `num_words`.')\n",
    "        num_words = kwargs.pop('nb_words')\n",
    "    if kwargs:\n",
    "        raise TypeError('Unrecognized keyword arguments: ' + str(kwargs))\n",
    "\n",
    "    path = get_file(path,\n",
    "                    origin='https://s3.amazonaws.com/text-datasets/imdb.npz',\n",
    "                    file_hash='599dadb1135973df5b59232a0e9a887c')\n",
    "    with np.load(path) as f:\n",
    "        x_train, labels_train = f['x_train'], f['y_train']\n",
    "        x_test, labels_test = f['x_test'], f['y_test']\n",
    "\n",
    "    np.random.seed(seed)\n",
    "    indices = np.arange(len(x_train))\n",
    "    np.random.shuffle(indices)\n",
    "    x_train = x_train[indices]\n",
    "    labels_train = labels_train[indices]\n",
    "\n",
    "    indices = np.arange(len(x_test))\n",
    "    np.random.shuffle(indices)\n",
    "    x_test = x_test[indices]\n",
    "    labels_test = labels_test[indices]\n",
    "\n",
    "    xs = np.concatenate([x_train, x_test])\n",
    "    labels = np.concatenate([labels_train, labels_test])\n",
    "\n",
    "    if start_char is not None:\n",
    "        xs = [[start_char] + [w + index_from for w in x] for x in xs]\n",
    "    elif index_from:\n",
    "        xs = [[w + index_from for w in x] for x in xs]\n",
    "\n",
    "    if maxlen:\n",
    "        xs, labels = _remove_long_seq(maxlen, xs, labels)\n",
    "        if not xs:\n",
    "            raise ValueError('After filtering for sequences shorter than maxlen=' +\n",
    "                             str(maxlen) + ', no sequence was kept. '\n",
    "                             'Increase maxlen.')\n",
    "    if not num_words:\n",
    "        num_words = max([max(x) for x in xs])\n",
    "\n",
    "    # by convention, use 2 as OOV word\n",
    "    # reserve 'index_from' (=3 by default) characters:\n",
    "    # 0 (padding), 1 (start), 2 (OOV)\n",
    "    if oov_char is not None:\n",
    "        xs = [[w if (skip_top <= w < num_words) else oov_char for w in x]\n",
    "              for x in xs]\n",
    "    else:\n",
    "        xs = [[w for w in x if skip_top <= w < num_words]\n",
    "              for x in xs]\n",
    "\n",
    "    idx = len(x_train)\n",
    "    x_train, y_train = np.array(xs[:idx]), np.array(labels[:idx])\n",
    "    x_test, y_test = np.array(xs[idx:]), np.array(labels[idx:])\n",
    "\n",
    "    return (x_train, y_train), (x_test, y_test)\n",
    "\n",
    "\n",
    "def get_word_index(path='imdb_word_index.json'):\n",
    "    \"\"\"Retrieves the dictionary mapping words to word indices.\n",
    "    # Arguments\n",
    "        path: where to cache the data (relative to `~/.keras/dataset`).\n",
    "    # Returns\n",
    "        The word index dictionary.\n",
    "    \"\"\"\n",
    "    path = get_file(\n",
    "        path,\n",
    "        origin='https://s3.amazonaws.com/text-datasets/imdb_word_index.json',\n",
    "        file_hash='bfafd718b763782e994055a2d397834f')\n",
    "    with open(path) as f:\n",
    "        return json.load(f)\n",
    "```\n",
    "## Regarding Dataset  \n",
    "Dataset of 25,000 movies reviews from IMDB, labeled by sentiment (positive/negative). Reviews have been preprocessed, and each review is encoded as a sequence of word indexes (integers). For convenience, words are indexed by overall frequency in the dataset, so that for instance the integer \"3\" encodes the 3rd most frequent word in the data. This allows for quick filtering operations such as: \"only consider the top 10,000 most common words, but eliminate the top 20 most common words\".     \n",
    "As a convention, \"0\" does not stand for a specific word, but instead is used to encode any unknown word.   \n",
    "[official Link](http://ai.stanford.edu/~amaas/data/sentiment/)   \n"
   ]
  },
  {
   "cell_type": "code",
   "execution_count": 2,
   "metadata": {},
   "outputs": [
    {
     "name": "stderr",
     "output_type": "stream",
     "text": [
      "Using TensorFlow backend.\n"
     ]
    }
   ],
   "source": [
    "# Loading the dataset\n",
    "from keras.datasets import imdb\n",
    "(x_train, y_train), (x_test, y_test) = imdb.load_data(num_words=10000,skip_top=0,maxlen=None,seed=113,start_char=1,oov_char=2,index_from=3)"
   ]
  },
  {
   "cell_type": "markdown",
   "metadata": {},
   "source": [
    "# Understand the dataset\n",
    "Let see the size and shape of test and training tuples\n",
    "\n",
    "``On Execution``  \n",
    "There will be 25000 samples list of different sized word embeddings in training set  \n",
    "There will be 25000 samples list of different sized word embeddings in testing set\n",
    "The first review would be (218,) sized word embedding"
   ]
  },
  {
   "cell_type": "code",
   "execution_count": 3,
   "metadata": {},
   "outputs": [
    {
     "name": "stdout",
     "output_type": "stream",
     "text": [
      "The number of training samples 25000\n",
      "The number of testing samples 25000\n",
      "The shape of training samples array (25000,)\n",
      "The shape of training samples labels (25000,)\n",
      "First element in x_train ,its type : <class 'list'> it's shape : (218,)\n"
     ]
    }
   ],
   "source": [
    "#Understanding the data\n",
    "print(\"The number of training samples\",len(x_train))\n",
    "print(\"The number of testing samples\",len(x_test))\n",
    "print(\"The shape of training samples array\",np.shape(x_train))\n",
    "print(\"The shape of training samples labels\", np.shape(y_train))\n",
    "print(\"First element in x_train ,its type :\",type(x_train[0]),\"it's shape :\",np.shape(x_train[0]))"
   ]
  },
  {
   "cell_type": "markdown",
   "metadata": {},
   "source": [
    "# Visualizing the data\n",
    "Let us try to visualise the few samples of data so, we could get an idea of how the data looks like  \n",
    "`On Execution`  \n",
    "We can see first two reviews\n",
    "> Note: on loading the dataset we load the word embedding, to convert into the actual reviews we take the help of word to index dictonary to convert the given words embedding to actual reviews."
   ]
  },
  {
   "cell_type": "code",
   "execution_count": 4,
   "metadata": {},
   "outputs": [
    {
     "name": "stdout",
     "output_type": "stream",
     "text": [
      "\n",
      "First Review \n",
      "\n",
      "the as you with out themselves powerful lets loves their becomes reaching had journalist of lot from anyone to have after out atmosphere never more room and it so heart shows to years of every never going and help moments or of every chest visual movie except her was several of enough more with is now current film as you of mine potentially unfortunately of you than him that with out themselves her get for was camp of you movie sometimes movie that with scary but and to story wonderful that in seeing in character to of 70s musicians with heart had shadows they of here that with her serious to have does when from why what have critics they is you that isn't one will very to as itself with other and in of seen over landed for anyone of and br show's to whether from than out themselves history he name half some br of and odd was two most of mean for 1 any an boat she he should is thought frog but of script you not while history he heart to real at barrel but when from one bit then have two of script their with her nobody most that with wasn't to with armed acting watch an for with heartfelt film want an\n",
      "\n",
      "Its label : 1\n",
      "\n",
      "Second Review \n",
      "\n",
      "the thought solid thought senator do making to is spot nomination assumed while he of jack in where picked as getting on was did hands fact characters to always life thrillers not as me can't in at are br of sure your way of little it strongly random to view of love it so principles of guy it used producer of where it of here icon film of outside to don't all unique some like of direction it if out her imagination below keep of queen he diverse to makes this stretch and of solid it thought begins br senator and budget worthwhile though ok and awaiting for ever better were and diverse for budget look kicked any to of making it out and follows for effects show to show cast this family us scenes more it severe making senator to and finds tv tend to of emerged these thing wants but and an beckinsale cult as it is video do you david see scenery it in few those are of ship for with of wild to one is very work dark they don't do dvd with those them\n",
      "\n",
      "Its label : 0\n"
     ]
    }
   ],
   "source": [
    "# Data Visulization\n",
    "\n",
    "# A dictionary mapping words to an integer index\n",
    "word_index = imdb.get_word_index()\n",
    "reverse_word_index = dict([(value, key) for (key, value) in word_index.items()]) # Reversed dictionary\n",
    "\n",
    "def decode_review(text):\n",
    "    return ' '.join([reverse_word_index.get(i, '?') for i in text])\n",
    "\n",
    "## Viewing the review's\n",
    "print('\\nFirst Review \\n')\n",
    "print(decode_review(x_train[0]))\n",
    "print('\\nIts label :',y_train[0])\n",
    "\n",
    "print('\\nSecond Review \\n')\n",
    "print(decode_review(x_train[1]))\n",
    "print('\\nIts label :',y_train[1])"
   ]
  },
  {
   "cell_type": "markdown",
   "metadata": {},
   "source": [
    "# Preprocessing the data\n",
    "\n",
    "## Padding\n",
    "Each review in the dataset would have a different size but, in a neural network model would like to have all its inputs of same size for that we all padding to the reviews.  \n",
    "We make sure all the embeddings have the same length of max lenght i.e. 256 (for this dataset).   \n",
    "For embeddings longer than 256 the enddings will be chopped off.   \n",
    "For embeddings shorter than 256 '0' (zeros) would be \n",
    "> Note: On adding 0 to the embeddings we are not creating a new word in the embedding. The dataset doesn't assign any word to the value 0 . 0 is some kind of unknown word which we use as padding."
   ]
  },
  {
   "cell_type": "code",
   "execution_count": 5,
   "metadata": {},
   "outputs": [],
   "source": [
    "# Data Preprocessing\n",
    "## Padding\n",
    "from keras.preprocessing.sequence import pad_sequences\n",
    "x_train_padded = pad_sequences(x_train,value=0,padding='post',maxlen=256)\n",
    "x_test_padded =  pad_sequences(x_test,value=0,padding='post',maxlen=256)"
   ]
  },
  {
   "cell_type": "markdown",
   "metadata": {},
   "source": [
    "# Training varibles\n",
    "These Training varbles are hyper parameters for neural network training.   \n",
    "`epochs` : each epoch is forward propagation + backward propagation over the whole dataset once is called one epoch.  \n",
    "`learning_rate` : the magnitude in which the weights are modified one the acquired loss.   \n",
    "`learning_rate_decay` : there can be high leanring rate at the beining of the training when the loss is high. Over a period of time the learning rate can reduce for fine training of network.  \n",
    "`batch_size` : the data is fed to the network in batches of 32 samples at each time. This batch feeding is done all over the whole dataset.  \n",
    "\n",
    "`vocab_size` : vocab size is the total number of words present in the dictonary. This size would represent the input size to the nural network model"
   ]
  },
  {
   "cell_type": "code",
   "execution_count": 6,
   "metadata": {},
   "outputs": [],
   "source": [
    "# Training varibles\n",
    "learning_rate = 0.00001\n",
    "learning_rate_decay = 0.00001\n",
    "batch_size = 512\n",
    "epochs = 60\n",
    "classes = 2\n",
    "## input shape is the vocabulary count used for the movie reviews (10,000 words)\n",
    "vocab_size = 10000"
   ]
  },
  {
   "cell_type": "markdown",
   "metadata": {},
   "source": [
    "# Neural Netowork Model\n",
    "`Line 6` : we are building a keras sequential model  \n",
    "`Line 13` : we are using Adam optimizer  \n",
    "`Line 16` : compiling the model to check if the model is build properly.  \n",
    "\n",
    "The loss function being used is `binary_crossentropy` since its a two class classification"
   ]
  },
  {
   "cell_type": "code",
   "execution_count": 7,
   "metadata": {},
   "outputs": [],
   "source": [
    "# Building the model\n",
    "from keras.models import Sequential\n",
    "from keras.layers import Embedding,GlobalAveragePooling1D,Dense\n",
    "from keras.optimizers import Adam\n",
    "\n",
    "model = Sequential()\n",
    "model.add(Embedding(vocab_size, 16))\n",
    "model.add(GlobalAveragePooling1D())\n",
    "model.add(Dense(16, activation = 'relu'))\n",
    "model.add(Dense(1, activation = 'sigmoid'))\n",
    "\n",
    "# optimizer\n",
    "optimizer = Adam(lr=learning_rate, beta_1=0.9, beta_2=0.999, epsilon=None, decay=learning_rate_decay, amsgrad=False)\n",
    "\n",
    "# Model Compilation\n",
    "model.compile(optimizer=optimizer,loss='binary_crossentropy',metrics=['accuracy'])"
   ]
  },
  {
   "cell_type": "markdown",
   "metadata": {},
   "source": [
    "# Training \n",
    "Training is the process of feeding the data to neural network and modifiying the weights of the model using the the backpropagation algorithm. The backpropagation using loss the function acquires the loss over batch size of data and does a backpropagation to modify the weights in such a way the in the next epoch the loss would be less when compared to the current epoch"
   ]
  },
  {
   "cell_type": "code",
   "execution_count": 8,
   "metadata": {},
   "outputs": [
    {
     "name": "stdout",
     "output_type": "stream",
     "text": [
      "Train on 25000 samples, validate on 25000 samples\n",
      "Epoch 1/60\n",
      "25000/25000 [==============================] - 5s 184us/step - loss: 0.6931 - acc: 0.5153 - val_loss: 0.6931 - val_acc: 0.5144\n",
      "Epoch 2/60\n",
      "25000/25000 [==============================] - 1s 29us/step - loss: 0.6931 - acc: 0.5226 - val_loss: 0.6931 - val_acc: 0.5198\n",
      "Epoch 3/60\n",
      "25000/25000 [==============================] - 1s 30us/step - loss: 0.6930 - acc: 0.5287 - val_loss: 0.6931 - val_acc: 0.5246\n",
      "Epoch 4/60\n",
      "25000/25000 [==============================] - 1s 28us/step - loss: 0.6930 - acc: 0.5352 - val_loss: 0.6930 - val_acc: 0.5308\n",
      "Epoch 5/60\n",
      "25000/25000 [==============================] - 1s 32us/step - loss: 0.6929 - acc: 0.5398 - val_loss: 0.6930 - val_acc: 0.5353\n",
      "Epoch 6/60\n",
      "25000/25000 [==============================] - 1s 34us/step - loss: 0.6929 - acc: 0.5453 - val_loss: 0.6929 - val_acc: 0.5401\n",
      "Epoch 7/60\n",
      "25000/25000 [==============================] - 1s 29us/step - loss: 0.6928 - acc: 0.5484 - val_loss: 0.6928 - val_acc: 0.5450\n",
      "Epoch 8/60\n",
      "25000/25000 [==============================] - 1s 31us/step - loss: 0.6927 - acc: 0.5536 - val_loss: 0.6928 - val_acc: 0.5490\n",
      "Epoch 9/60\n",
      "25000/25000 [==============================] - 1s 32us/step - loss: 0.6927 - acc: 0.5575 - val_loss: 0.6927 - val_acc: 0.5528\n",
      "Epoch 10/60\n",
      "25000/25000 [==============================] - 1s 29us/step - loss: 0.6926 - acc: 0.5626 - val_loss: 0.6926 - val_acc: 0.5579\n",
      "Epoch 11/60\n",
      "25000/25000 [==============================] - 1s 29us/step - loss: 0.6925 - acc: 0.5684 - val_loss: 0.6926 - val_acc: 0.5618\n",
      "Epoch 12/60\n",
      "25000/25000 [==============================] - 1s 29us/step - loss: 0.6924 - acc: 0.5724 - val_loss: 0.6925 - val_acc: 0.5658\n",
      "Epoch 13/60\n",
      "25000/25000 [==============================] - 1s 30us/step - loss: 0.6924 - acc: 0.5771 - val_loss: 0.6924 - val_acc: 0.5703\n",
      "Epoch 14/60\n",
      "25000/25000 [==============================] - 1s 31us/step - loss: 0.6923 - acc: 0.5817 - val_loss: 0.6924 - val_acc: 0.5742\n",
      "Epoch 15/60\n",
      "25000/25000 [==============================] - 1s 29us/step - loss: 0.6922 - acc: 0.5857 - val_loss: 0.6923 - val_acc: 0.5779\n",
      "Epoch 16/60\n",
      "25000/25000 [==============================] - 1s 30us/step - loss: 0.6921 - acc: 0.5900 - val_loss: 0.6922 - val_acc: 0.5804\n",
      "Epoch 17/60\n",
      "25000/25000 [==============================] - 1s 29us/step - loss: 0.6921 - acc: 0.5945 - val_loss: 0.6921 - val_acc: 0.5848\n",
      "Epoch 18/60\n",
      "25000/25000 [==============================] - 1s 30us/step - loss: 0.6920 - acc: 0.5975 - val_loss: 0.6921 - val_acc: 0.5880\n",
      "Epoch 19/60\n",
      "25000/25000 [==============================] - 1s 29us/step - loss: 0.6919 - acc: 0.6018 - val_loss: 0.6920 - val_acc: 0.5912\n",
      "Epoch 20/60\n",
      "25000/25000 [==============================] - 1s 29us/step - loss: 0.6918 - acc: 0.6057 - val_loss: 0.6919 - val_acc: 0.5941\n",
      "Epoch 21/60\n",
      "25000/25000 [==============================] - 1s 30us/step - loss: 0.6917 - acc: 0.6094 - val_loss: 0.6919 - val_acc: 0.5969\n",
      "Epoch 22/60\n",
      "25000/25000 [==============================] - 1s 31us/step - loss: 0.6917 - acc: 0.6119 - val_loss: 0.6918 - val_acc: 0.5989\n",
      "Epoch 23/60\n",
      "25000/25000 [==============================] - 1s 30us/step - loss: 0.6916 - acc: 0.6150 - val_loss: 0.6917 - val_acc: 0.6022\n",
      "Epoch 24/60\n",
      "25000/25000 [==============================] - 1s 31us/step - loss: 0.6915 - acc: 0.6194 - val_loss: 0.6916 - val_acc: 0.6050\n",
      "Epoch 25/60\n",
      "25000/25000 [==============================] - 1s 34us/step - loss: 0.6914 - acc: 0.6242 - val_loss: 0.6916 - val_acc: 0.6090\n",
      "Epoch 26/60\n",
      "25000/25000 [==============================] - 1s 35us/step - loss: 0.6914 - acc: 0.6276 - val_loss: 0.6915 - val_acc: 0.6141\n",
      "Epoch 27/60\n",
      "25000/25000 [==============================] - 1s 33us/step - loss: 0.6913 - acc: 0.6320 - val_loss: 0.6914 - val_acc: 0.6154\n",
      "Epoch 28/60\n",
      "25000/25000 [==============================] - 1s 36us/step - loss: 0.6912 - acc: 0.6344 - val_loss: 0.6914 - val_acc: 0.6184\n",
      "Epoch 29/60\n",
      "25000/25000 [==============================] - 1s 36us/step - loss: 0.6911 - acc: 0.6392 - val_loss: 0.6913 - val_acc: 0.6233\n",
      "Epoch 30/60\n",
      "25000/25000 [==============================] - 1s 31us/step - loss: 0.6910 - acc: 0.6434 - val_loss: 0.6912 - val_acc: 0.6264\n",
      "Epoch 31/60\n",
      "25000/25000 [==============================] - 1s 29us/step - loss: 0.6910 - acc: 0.6488 - val_loss: 0.6911 - val_acc: 0.6330\n",
      "Epoch 32/60\n",
      "25000/25000 [==============================] - 1s 32us/step - loss: 0.6909 - acc: 0.6510 - val_loss: 0.6910 - val_acc: 0.6357\n",
      "Epoch 33/60\n",
      "25000/25000 [==============================] - 1s 30us/step - loss: 0.6908 - acc: 0.6535 - val_loss: 0.6910 - val_acc: 0.6392\n",
      "Epoch 34/60\n",
      "25000/25000 [==============================] - 1s 30us/step - loss: 0.6907 - acc: 0.6589 - val_loss: 0.6909 - val_acc: 0.6454\n",
      "Epoch 35/60\n",
      "25000/25000 [==============================] - 1s 32us/step - loss: 0.6906 - acc: 0.6629 - val_loss: 0.6908 - val_acc: 0.6492\n",
      "Epoch 36/60\n",
      "25000/25000 [==============================] - 1s 31us/step - loss: 0.6905 - acc: 0.6684 - val_loss: 0.6907 - val_acc: 0.6547\n",
      "Epoch 37/60\n",
      "25000/25000 [==============================] - 1s 30us/step - loss: 0.6904 - acc: 0.6729 - val_loss: 0.6906 - val_acc: 0.6591\n",
      "Epoch 38/60\n",
      "25000/25000 [==============================] - 1s 30us/step - loss: 0.6903 - acc: 0.6785 - val_loss: 0.6906 - val_acc: 0.6636\n",
      "Epoch 39/60\n",
      "25000/25000 [==============================] - 1s 30us/step - loss: 0.6902 - acc: 0.6825 - val_loss: 0.6905 - val_acc: 0.6651\n",
      "Epoch 40/60\n",
      "25000/25000 [==============================] - 1s 31us/step - loss: 0.6902 - acc: 0.6853 - val_loss: 0.6904 - val_acc: 0.6696\n",
      "Epoch 41/60\n",
      "25000/25000 [==============================] - 1s 31us/step - loss: 0.6901 - acc: 0.6904 - val_loss: 0.6903 - val_acc: 0.6742\n",
      "Epoch 42/60\n",
      "25000/25000 [==============================] - 1s 32us/step - loss: 0.6900 - acc: 0.6934 - val_loss: 0.6902 - val_acc: 0.6777\n",
      "Epoch 43/60\n",
      "25000/25000 [==============================] - 1s 32us/step - loss: 0.6899 - acc: 0.6971 - val_loss: 0.6901 - val_acc: 0.6815\n",
      "Epoch 44/60\n",
      "25000/25000 [==============================] - 1s 34us/step - loss: 0.6898 - acc: 0.7015 - val_loss: 0.6900 - val_acc: 0.6859\n",
      "Epoch 45/60\n",
      "25000/25000 [==============================] - 1s 33us/step - loss: 0.6897 - acc: 0.7086 - val_loss: 0.6899 - val_acc: 0.6924\n",
      "Epoch 46/60\n",
      "25000/25000 [==============================] - 1s 31us/step - loss: 0.6896 - acc: 0.7122 - val_loss: 0.6898 - val_acc: 0.6950\n",
      "Epoch 47/60\n",
      "25000/25000 [==============================] - 1s 31us/step - loss: 0.6895 - acc: 0.7149 - val_loss: 0.6897 - val_acc: 0.6990\n",
      "Epoch 48/60\n",
      "25000/25000 [==============================] - 1s 36us/step - loss: 0.6894 - acc: 0.7178 - val_loss: 0.6896 - val_acc: 0.7031\n",
      "Epoch 49/60\n",
      "25000/25000 [==============================] - 1s 31us/step - loss: 0.6892 - acc: 0.7200 - val_loss: 0.6895 - val_acc: 0.7061\n",
      "Epoch 50/60\n",
      "25000/25000 [==============================] - 1s 29us/step - loss: 0.6891 - acc: 0.7235 - val_loss: 0.6894 - val_acc: 0.7092\n",
      "Epoch 51/60\n",
      "25000/25000 [==============================] - 1s 29us/step - loss: 0.6890 - acc: 0.7289 - val_loss: 0.6893 - val_acc: 0.7136\n",
      "Epoch 52/60\n",
      "25000/25000 [==============================] - 1s 30us/step - loss: 0.6889 - acc: 0.7360 - val_loss: 0.6892 - val_acc: 0.7207\n",
      "Epoch 53/60\n",
      "25000/25000 [==============================] - 1s 30us/step - loss: 0.6888 - acc: 0.7363 - val_loss: 0.6891 - val_acc: 0.7214\n",
      "Epoch 54/60\n",
      "25000/25000 [==============================] - 1s 28us/step - loss: 0.6887 - acc: 0.7389 - val_loss: 0.6890 - val_acc: 0.7241\n",
      "Epoch 55/60\n",
      "25000/25000 [==============================] - 1s 28us/step - loss: 0.6886 - acc: 0.7416 - val_loss: 0.6889 - val_acc: 0.7287\n",
      "Epoch 56/60\n",
      "25000/25000 [==============================] - 1s 29us/step - loss: 0.6884 - acc: 0.7454 - val_loss: 0.6888 - val_acc: 0.7310\n",
      "Epoch 57/60\n",
      "25000/25000 [==============================] - 1s 29us/step - loss: 0.6883 - acc: 0.7462 - val_loss: 0.6887 - val_acc: 0.7329\n",
      "Epoch 58/60\n",
      "25000/25000 [==============================] - 1s 29us/step - loss: 0.6882 - acc: 0.7467 - val_loss: 0.6886 - val_acc: 0.7338\n",
      "Epoch 59/60\n",
      "25000/25000 [==============================] - 1s 29us/step - loss: 0.6881 - acc: 0.7496 - val_loss: 0.6884 - val_acc: 0.7373\n",
      "Epoch 60/60\n"
     ]
    },
    {
     "name": "stdout",
     "output_type": "stream",
     "text": [
      "25000/25000 [==============================] - 1s 29us/step - loss: 0.6879 - acc: 0.7509 - val_loss: 0.6883 - val_acc: 0.7397\n"
     ]
    }
   ],
   "source": [
    "# Training the model\n",
    "model_history = model.fit(x_train_padded,y_train,epochs=epochs,batch_size=batch_size,validation_data=(x_test_padded, y_test),verbose=1)"
   ]
  },
  {
   "cell_type": "markdown",
   "metadata": {},
   "source": [
    "# Results\n",
    "using the trained model we try to predict what are the sentiments in the test set\n",
    "> here we use the thershold function to convert the output propabilites to positive or negetive with thershold value of 0.5."
   ]
  },
  {
   "cell_type": "code",
   "execution_count": 9,
   "metadata": {},
   "outputs": [],
   "source": [
    "# Results\n",
    "y_pred = model.predict(x_test_padded)\n",
    "\n",
    "def thershold_function(x): # Function to convert sigmoid outputs to 0's and 1's\n",
    "    if x>0.5:\n",
    "        return 1\n",
    "    else :\n",
    "        return 0\n",
    "thershold = np.vectorize(thershold_function)\n",
    "\n",
    "y_pred = thershold(y_pred)"
   ]
  },
  {
   "cell_type": "markdown",
   "metadata": {},
   "source": [
    "# Verifying the results\n",
    "cheking the results how good they are with the first 10 samples.   \n",
    "Plotting the graphs of test and train set accuracies and loss values. \n",
    "> NOTE: This plot is a very curicial step. These plots would tell us how good the model converges and if there is any overfitting"
   ]
  },
  {
   "cell_type": "code",
   "execution_count": 13,
   "metadata": {},
   "outputs": [
    {
     "name": "stdout",
     "output_type": "stream",
     "text": [
      "Ground truths of first 10 images in test set [0 1 1 0 1 1 1 0 0 1]\n",
      "Predicted values of first 10 image in test set [0 1 1 0 0 0 1 1 1 1]\n"
     ]
    },
    {
     "data": {
      "image/png": "[encoded data removed]",
      "text/plain": [
       "<Figure size 432x288 with 1 Axes>"
      ]
     },
     "metadata": {
      "needs_background": "light"
     },
     "output_type": "display_data"
    },
    {
     "data": {
      "image/png": "[encoded data removed]",
      "text/plain": [
       "<Figure size 432x288 with 1 Axes>"
      ]
     },
     "metadata": {
      "needs_background": "light"
     },
     "output_type": "display_data"
    }
   ],
   "source": [
    "# Verifying the results\n",
    "print(\"Ground truths of first 10 images in test set\",np.array(y_test[0:10]))\n",
    "print(\"Predicted values of first 10 image in test set\",y_pred[0:10].ravel())\n",
    "\n",
    "loss = model_history.history['loss']\n",
    "val_loss = model_history.history['val_loss']\n",
    "plt.plot(loss,label='train')\n",
    "plt.plot(val_loss,label='test')\n",
    "plt.title('loss Graph')\n",
    "plt.ylabel('precentage')\n",
    "plt.xlabel('epochs')\n",
    "plt.legend()\n",
    "plt.show()\n",
    "\n",
    "acc = model_history.history['acc']\n",
    "val_acc = model_history.history['val_acc']\n",
    "plt.plot(acc,label='train')\n",
    "plt.plot(val_acc,label='test')\n",
    "plt.title('Accuracy Graph')\n",
    "plt.ylabel('precentage')\n",
    "plt.xlabel('epochs')\n",
    "plt.legend()\n",
    "plt.show()"
   ]
  },
  {
   "cell_type": "markdown",
   "metadata": {},
   "source": [
    "# Visulizing the results\n",
    "checking the results by visulizing them and creating a confusion matrix. The values of precession and accuracy can be obtained by the help of confusion matrix and f1 scores to compare this architecure with other architectures of neural networks"
   ]
  },
  {
   "cell_type": "code",
   "execution_count": 14,
   "metadata": {},
   "outputs": [
    {
     "name": "stdout",
     "output_type": "stream",
     "text": [
      "Predicted     0     1\n",
      "Actual               \n",
      "0          9231  3269\n",
      "1          3238  9262\n"
     ]
    },
    {
     "data": {
      "text/plain": [
       "<matplotlib.axes._subplots.AxesSubplot at 0x16696e2d320>"
      ]
     },
     "execution_count": 14,
     "metadata": {},
     "output_type": "execute_result"
    },
    {
     "data": {
      "image/png": "[encoded data removed]",
      "text/plain": [
       "<Figure size 1440x1440 with 2 Axes>"
      ]
     },
     "metadata": {
      "needs_background": "light"
     },
     "output_type": "display_data"
    }
   ],
   "source": [
    "# Visulizing the results\n",
    "y_pred = y_pred.ravel()\n",
    "y_pred = pd.Series(y_pred, name='Predicted')\n",
    "y_test = pd.Series(y_test, name='Actual')\n",
    "df_confusion  = pd.crosstab(y_test,y_pred, rownames=['Actual'], colnames=['Predicted'])\n",
    "print(df_confusion)\n",
    "plt.figure(figsize = (20,20))\n",
    "plt.xlabel('xlabel', fontsize=18)\n",
    "plt.ylabel('ylabel', fontsize=18)\n",
    "plt.title('Confusion Matrix',fontsize=20)\n",
    "sns.heatmap(df_confusion, annot=True,fmt=\"d\")"
   ]
  }
 ],
 "metadata": {
  "kernelspec": {
   "display_name": "Python 3",
   "language": "python",
   "name": "python3"
  },
  "language_info": {
   "codemirror_mode": {
    "name": "ipython",
    "version": 3
   },
   "file_extension": ".py",
   "mimetype": "text/x-python",
   "name": "python",
   "nbconvert_exporter": "python",
   "pygments_lexer": "ipython3",
   "version": "3.6.7"
  }
 },
 "nbformat": 4,
 "nbformat_minor": 2
}
