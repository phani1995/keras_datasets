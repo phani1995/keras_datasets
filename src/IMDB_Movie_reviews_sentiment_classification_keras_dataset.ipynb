{
 "cells": [
  {
   "cell_type": "markdown",
   "metadata": {},
   "source": [
    "# Imports\n",
    "\n",
    "`numpy`      import to manupulate arrays  \n",
    "`pandas`     import to create and modify dataframes  \n",
    "`matplotlib` to visulaize graphs  \n",
    "`seaborn`    build on matploblib, higher level graph functions"
   ]
  },
  {
   "cell_type": "code",
   "execution_count": 2,
   "metadata": {},
   "outputs": [],
   "source": [
    "# Imports\n",
    "import numpy as np\n",
    "import pandas as pd\n",
    "import matplotlib.pyplot as plt\n",
    "import seaborn as sns"
   ]
  },
  {
   "cell_type": "markdown",
   "metadata": {},
   "source": [
    "# Loading the data\n",
    "Here we are taking the inbuilt function of keras to load the data from the server  \n",
    "The dataset file in present in the [Link to dataset in amazon server](https://s3.amazonaws.com/text-datasets/imdb.npz)  \n",
    "The inbuilt code \n",
    "```python\n",
    "def load_data(path='imdb.npz', num_words=None, skip_top=0,\n",
    "              maxlen=None, seed=113,\n",
    "              start_char=1, oov_char=2, index_from=3, **kwargs):\n",
    "    \"\"\"Loads the IMDB dataset.\n",
    "    # Arguments\n",
    "        path: where to cache the data (relative to `~/.keras/dataset`).\n",
    "        num_words: max number of words to include. Words are ranked\n",
    "            by how often they occur (in the training set) and only\n",
    "            the most frequent words are kept\n",
    "        skip_top: skip the top N most frequently occurring words\n",
    "            (which may not be informative).\n",
    "        maxlen: sequences longer than this will be filtered out.\n",
    "        seed: random seed for sample shuffling.\n",
    "        start_char: The start of a sequence will be marked with this character.\n",
    "            Set to 1 because 0 is usually the padding character.\n",
    "        oov_char: words that were cut out because of the `num_words`\n",
    "            or `skip_top` limit will be replaced with this character.\n",
    "        index_from: index actual words with this index and higher.\n",
    "    # Returns\n",
    "        Tuple of Numpy arrays: `(x_train, y_train), (x_test, y_test)`.\n",
    "    # Raises\n",
    "        ValueError: in case `maxlen` is so low\n",
    "            that no input sequence could be kept.\n",
    "    Note that the 'out of vocabulary' character is only used for\n",
    "    words that were present in the training set but are not included\n",
    "    because they're not making the `num_words` cut here.\n",
    "    Words that were not seen in the training set but are in the test set\n",
    "    have simply been skipped.\n",
    "    \"\"\"\n",
    "    # Legacy support\n",
    "    if 'nb_words' in kwargs:\n",
    "        warnings.warn('The `nb_words` argument in `load_data` '\n",
    "                      'has been renamed `num_words`.')\n",
    "        num_words = kwargs.pop('nb_words')\n",
    "    if kwargs:\n",
    "        raise TypeError('Unrecognized keyword arguments: ' + str(kwargs))\n",
    "\n",
    "    path = get_file(path,\n",
    "                    origin='https://s3.amazonaws.com/text-datasets/imdb.npz',\n",
    "                    file_hash='599dadb1135973df5b59232a0e9a887c')\n",
    "    with np.load(path) as f:\n",
    "        x_train, labels_train = f['x_train'], f['y_train']\n",
    "        x_test, labels_test = f['x_test'], f['y_test']\n",
    "\n",
    "    np.random.seed(seed)\n",
    "    indices = np.arange(len(x_train))\n",
    "    np.random.shuffle(indices)\n",
    "    x_train = x_train[indices]\n",
    "    labels_train = labels_train[indices]\n",
    "\n",
    "    indices = np.arange(len(x_test))\n",
    "    np.random.shuffle(indices)\n",
    "    x_test = x_test[indices]\n",
    "    labels_test = labels_test[indices]\n",
    "\n",
    "    xs = np.concatenate([x_train, x_test])\n",
    "    labels = np.concatenate([labels_train, labels_test])\n",
    "\n",
    "    if start_char is not None:\n",
    "        xs = [[start_char] + [w + index_from for w in x] for x in xs]\n",
    "    elif index_from:\n",
    "        xs = [[w + index_from for w in x] for x in xs]\n",
    "\n",
    "    if maxlen:\n",
    "        xs, labels = _remove_long_seq(maxlen, xs, labels)\n",
    "        if not xs:\n",
    "            raise ValueError('After filtering for sequences shorter than maxlen=' +\n",
    "                             str(maxlen) + ', no sequence was kept. '\n",
    "                             'Increase maxlen.')\n",
    "    if not num_words:\n",
    "        num_words = max([max(x) for x in xs])\n",
    "\n",
    "    # by convention, use 2 as OOV word\n",
    "    # reserve 'index_from' (=3 by default) characters:\n",
    "    # 0 (padding), 1 (start), 2 (OOV)\n",
    "    if oov_char is not None:\n",
    "        xs = [[w if (skip_top <= w < num_words) else oov_char for w in x]\n",
    "              for x in xs]\n",
    "    else:\n",
    "        xs = [[w for w in x if skip_top <= w < num_words]\n",
    "              for x in xs]\n",
    "\n",
    "    idx = len(x_train)\n",
    "    x_train, y_train = np.array(xs[:idx]), np.array(labels[:idx])\n",
    "    x_test, y_test = np.array(xs[idx:]), np.array(labels[idx:])\n",
    "\n",
    "    return (x_train, y_train), (x_test, y_test)\n",
    "\n",
    "\n",
    "def get_word_index(path='imdb_word_index.json'):\n",
    "    \"\"\"Retrieves the dictionary mapping words to word indices.\n",
    "    # Arguments\n",
    "        path: where to cache the data (relative to `~/.keras/dataset`).\n",
    "    # Returns\n",
    "        The word index dictionary.\n",
    "    \"\"\"\n",
    "    path = get_file(\n",
    "        path,\n",
    "        origin='https://s3.amazonaws.com/text-datasets/imdb_word_index.json',\n",
    "        file_hash='bfafd718b763782e994055a2d397834f')\n",
    "    with open(path) as f:\n",
    "        return json.load(f)\n",
    "```\n",
    "which downloads the data and unpacks and gives back as tuples of test, train splits   \n",
    "\n",
    "## Regarding Dataset\n",
    "Mnist is data set of handwritten digits of 0-9, [official Link](http://ai.stanford.edu/~amaas/data/sentiment/)   \n",
    "25000 training samples  \n",
    "25000 testing samples   "
   ]
  },
  {
   "cell_type": "code",
   "execution_count": 3,
   "metadata": {},
   "outputs": [
    {
     "name": "stderr",
     "output_type": "stream",
     "text": [
      "Using TensorFlow backend.\n"
     ]
    }
   ],
   "source": [
    "# Loading the dataset\n",
    "from keras.datasets import imdb\n",
    "(x_train, y_train), (x_test, y_test) = imdb.load_data(num_words=10000,skip_top=0,maxlen=None,seed=113,start_char=1,oov_char=2,index_from=3)"
   ]
  },
  {
   "cell_type": "markdown",
   "metadata": {},
   "source": [
    "# Understand the dataset\n",
    "Let see the size and shape of test and training tuples\n",
    "\n",
    "``On Execution``  \n",
    "There will be 25000 samples of text reviews in training set  \n",
    "There will be 25000 samples of text reviews of images in testing set"
   ]
  },
  {
   "cell_type": "code",
   "execution_count": 10,
   "metadata": {},
   "outputs": [
    {
     "name": "stdout",
     "output_type": "stream",
     "text": [
      "The number of training samples 25000\n",
      "The number of testing samples 25000\n",
      "The shape of training samples array (25000,)\n",
      "The shape of training samples labels (25000,)\n",
      "First element in x_train ,its type : <class 'list'> it's shape : (218,)\n"
     ]
    }
   ],
   "source": [
    "#Understanding the data\n",
    "print(\"The number of training samples\",len(x_train))\n",
    "print(\"The number of testing samples\",len(x_test))\n",
    "print(\"The shape of training samples array\",np.shape(x_train))\n",
    "print(\"The shape of training samples labels\", np.shape(y_train))\n",
    "print(\"First element in x_train ,its type :\",type(x_train[0]),\"it's shape :\",np.shape(x_train[0]))"
   ]
  },
  {
   "cell_type": "markdown",
   "metadata": {},
   "source": [
    "# Data Visulization\n",
    "\n",
    "Since its a textual data we are tyring to view the data with help of word index dictionaray by converting each list into their coresponding words we can view the reviews.   \n",
    "We are viewing the first two reviews of the training set."
   ]
  },
  {
   "cell_type": "code",
   "execution_count": 6,
   "metadata": {},
   "outputs": [
    {
     "name": "stdout",
     "output_type": "stream",
     "text": [
      "\n",
      "First Review \n",
      "\n",
      "the as you with out themselves powerful lets loves their becomes reaching had journalist of lot from anyone to have after out atmosphere never more room and it so heart shows to years of every never going and help moments or of every chest visual movie except her was several of enough more with is now current film as you of mine potentially unfortunately of you than him that with out themselves her get for was camp of you movie sometimes movie that with scary but and to story wonderful that in seeing in character to of 70s musicians with heart had shadows they of here that with her serious to have does when from why what have critics they is you that isn't one will very to as itself with other and in of seen over landed for anyone of and br show's to whether from than out themselves history he name half some br of and odd was two most of mean for 1 any an boat she he should is thought frog but of script you not while history he heart to real at barrel but when from one bit then have two of script their with her nobody most that with wasn't to with armed acting watch an for with heartfelt film want an\n",
      "\n",
      "Its label : 1\n",
      "\n",
      "Second Review \n",
      "\n",
      "the thought solid thought senator do making to is spot nomination assumed while he of jack in where picked as getting on was did hands fact characters to always life thrillers not as me can't in at are br of sure your way of little it strongly random to view of love it so principles of guy it used producer of where it of here icon film of outside to don't all unique some like of direction it if out her imagination below keep of queen he diverse to makes this stretch and of solid it thought begins br senator and budget worthwhile though ok and awaiting for ever better were and diverse for budget look kicked any to of making it out and follows for effects show to show cast this family us scenes more it severe making senator to and finds tv tend to of emerged these thing wants but and an beckinsale cult as it is video do you david see scenery it in few those are of ship for with of wild to one is very work dark they don't do dvd with those them\n",
      "\n",
      "Its label : 0\n"
     ]
    }
   ],
   "source": [
    "# Data Visulization\n",
    "\n",
    "# A dictionary mapping words to an integer index\n",
    "word_index = imdb.get_word_index()\n",
    "reverse_word_index = dict([(value, key) for (key, value) in word_index.items()]) # Reversed dictionary\n",
    "\n",
    "def decode_review(text):\n",
    "    return ' '.join([reverse_word_index.get(i, '?') for i in text])\n",
    "\n",
    "## Viewing the review's\n",
    "print('\\nFirst Review \\n')\n",
    "print(decode_review(x_train[0]))\n",
    "print('\\nIts label :',y_train[0])\n",
    "\n",
    "print('\\nSecond Review \\n')\n",
    "print(decode_review(x_train[1]))\n",
    "print('\\nIts label :',y_train[1])"
   ]
  },
  {
   "cell_type": "markdown",
   "metadata": {},
   "source": [
    "# Data Preprocessing\n",
    "\n",
    "## Padding\n",
    "\n",
    "Since all the review are of not same lenght, but the nerual network can't process varied size samples we are converting the  different sized vectors into a contant size vector using `pad_sequnces` function of keras frame work.  \n",
    "The function basically truncated if there are more words given maximum length. If the number of words in the review are less than the maximum lenght it would add zeros in the end."
   ]
  },
  {
   "cell_type": "code",
   "execution_count": 12,
   "metadata": {},
   "outputs": [],
   "source": [
    "# Data Preprocessing\n",
    "## Padding\n",
    "from keras.preprocessing.sequence import pad_sequences\n",
    "x_train_padded = pad_sequences(x_train,value=0,padding='post',maxlen=256)\n",
    "x_test_padded =  pad_sequences(x_test,value=0,padding='post',maxlen=256)"
   ]
  },
  {
   "cell_type": "markdown",
   "metadata": {},
   "source": [
    "# Training varibles\n",
    "These Training varbles are hyper parameters for neural network training.   \n",
    "`epochs` : each epoch is forward propagation + backward propagation over the whole dataset once is called one epoch.  \n",
    "`learning_rate` : the magnitude in which the weights are modified one the acquired loss.   \n",
    "`learning_rate_decay` : there can be high leanring rate at the beining of the training when the loss is high. Over a period of time the learning rate can reduce for fine training of network.  \n",
    "`batch_size` : the data is fed to the network in batches of 32 samples at each time. This batch feeding is done all over the whole dataset.  \n",
    "`vocab_size` : vocab_size is the total number unique words present in this context. Total number of words present in the vocabulary. Its intilized to the same value of `num_words` while creating the dataset"
   ]
  },
  {
   "cell_type": "code",
   "execution_count": 24,
   "metadata": {},
   "outputs": [],
   "source": [
    "# Training varibles\n",
    "learning_rate = 0.00001\n",
    "learning_rate_decay = 0.00005\n",
    "batch_size = 512\n",
    "epochs = 60\n",
    "classes = 2\n",
    "## input shape is the vocabulary count used for the movie reviews (10,000 words)\n",
    "vocab_size = 10000"
   ]
  },
  {
   "cell_type": "markdown",
   "metadata": {},
   "source": [
    "# Neural Netowork Model\n",
    "\n",
    "We are builing a embedding model.  \n",
    "\n",
    "`Line 6` : we are building a keras sequential model  \n",
    "`Line 13` : we are using stochastic gradient decent optimizer  \n",
    "`Line 16` : compiling the model to check if the model is build properly.  \n",
    "\n",
    "The loss function being used is `binary_crossentropy` since its a two class classification."
   ]
  },
  {
   "cell_type": "code",
   "execution_count": 25,
   "metadata": {},
   "outputs": [],
   "source": [
    "# Building the model\n",
    "from keras.models import Sequential\n",
    "from keras.layers import Embedding,GlobalAveragePooling1D,Dense\n",
    "from keras.optimizers import Adam\n",
    "\n",
    "model = Sequential()\n",
    "model.add(Embedding(vocab_size, 16))\n",
    "model.add(GlobalAveragePooling1D())\n",
    "model.add(Dense(16, activation = 'relu'))\n",
    "model.add(Dense(1, activation = 'sigmoid'))\n",
    "\n",
    "# optimizer\n",
    "optimizer = Adam(lr=learning_rate, beta_1=0.9, beta_2=0.999, epsilon=None, decay=learning_rate_decay, amsgrad=False)\n",
    "\n",
    "# Model Compilation\n",
    "model.compile(optimizer=optimizer,loss='binary_crossentropy',metrics=['accuracy'])"
   ]
  },
  {
   "cell_type": "markdown",
   "metadata": {},
   "source": [
    "# Training \n",
    "Training is the process of feeding the data to neural network and modifiying the weights of the model using the the backpropagation algorithm. The backpropagation using loss the function acquires the loss over batch size of data and does a backpropagation to modify the weights in such a way the in the next epoch the loss would be less when compared to the current epoch"
   ]
  },
  {
   "cell_type": "code",
   "execution_count": 26,
   "metadata": {},
   "outputs": [
    {
     "name": "stdout",
     "output_type": "stream",
     "text": [
      "Train on 25000 samples, validate on 25000 samples\n",
      "Epoch 1/60\n",
      "25000/25000 [==============================] - 1s 36us/step - loss: 0.6931 - acc: 0.5035 - val_loss: 0.6930 - val_acc: 0.5121\n",
      "Epoch 2/60\n",
      "25000/25000 [==============================] - 0s 10us/step - loss: 0.6931 - acc: 0.5095 - val_loss: 0.6930 - val_acc: 0.5168\n",
      "Epoch 3/60\n",
      "25000/25000 [==============================] - 0s 10us/step - loss: 0.6930 - acc: 0.5150 - val_loss: 0.6930 - val_acc: 0.5216\n",
      "Epoch 4/60\n",
      "25000/25000 [==============================] - 0s 10us/step - loss: 0.6930 - acc: 0.5206 - val_loss: 0.6930 - val_acc: 0.5259\n",
      "Epoch 5/60\n",
      "25000/25000 [==============================] - 0s 10us/step - loss: 0.6930 - acc: 0.5260 - val_loss: 0.6929 - val_acc: 0.5300\n",
      "Epoch 6/60\n",
      "25000/25000 [==============================] - 0s 10us/step - loss: 0.6929 - acc: 0.5308 - val_loss: 0.6929 - val_acc: 0.5344\n",
      "Epoch 7/60\n",
      "25000/25000 [==============================] - 0s 10us/step - loss: 0.6929 - acc: 0.5355 - val_loss: 0.6928 - val_acc: 0.5399\n",
      "Epoch 8/60\n",
      "25000/25000 [==============================] - 0s 10us/step - loss: 0.6929 - acc: 0.5414 - val_loss: 0.6928 - val_acc: 0.5456\n",
      "Epoch 9/60\n",
      "25000/25000 [==============================] - 0s 10us/step - loss: 0.6928 - acc: 0.5452 - val_loss: 0.6928 - val_acc: 0.5508\n",
      "Epoch 10/60\n",
      "25000/25000 [==============================] - 0s 10us/step - loss: 0.6927 - acc: 0.5506 - val_loss: 0.6927 - val_acc: 0.5560\n",
      "Epoch 11/60\n",
      "25000/25000 [==============================] - 0s 10us/step - loss: 0.6927 - acc: 0.5546 - val_loss: 0.6927 - val_acc: 0.5592\n",
      "Epoch 12/60\n",
      "25000/25000 [==============================] - 0s 10us/step - loss: 0.6926 - acc: 0.5574 - val_loss: 0.6926 - val_acc: 0.5626\n",
      "Epoch 13/60\n",
      "25000/25000 [==============================] - 0s 10us/step - loss: 0.6926 - acc: 0.5605 - val_loss: 0.6926 - val_acc: 0.5651\n",
      "Epoch 14/60\n",
      "25000/25000 [==============================] - 0s 10us/step - loss: 0.6925 - acc: 0.5635 - val_loss: 0.6925 - val_acc: 0.5667\n",
      "Epoch 15/60\n",
      "25000/25000 [==============================] - 0s 10us/step - loss: 0.6925 - acc: 0.5669 - val_loss: 0.6924 - val_acc: 0.5699\n",
      "Epoch 16/60\n",
      "25000/25000 [==============================] - 0s 10us/step - loss: 0.6924 - acc: 0.5669 - val_loss: 0.6924 - val_acc: 0.5716\n",
      "Epoch 17/60\n",
      "25000/25000 [==============================] - 0s 10us/step - loss: 0.6924 - acc: 0.5692 - val_loss: 0.6923 - val_acc: 0.5727\n",
      "Epoch 18/60\n",
      "25000/25000 [==============================] - 0s 10us/step - loss: 0.6923 - acc: 0.5706 - val_loss: 0.6923 - val_acc: 0.5748\n",
      "Epoch 19/60\n",
      "25000/25000 [==============================] - 0s 10us/step - loss: 0.6922 - acc: 0.5730 - val_loss: 0.6922 - val_acc: 0.5767\n",
      "Epoch 20/60\n",
      "25000/25000 [==============================] - 0s 10us/step - loss: 0.6922 - acc: 0.5750 - val_loss: 0.6922 - val_acc: 0.5788\n",
      "Epoch 21/60\n",
      "25000/25000 [==============================] - 0s 10us/step - loss: 0.6921 - acc: 0.5765 - val_loss: 0.6921 - val_acc: 0.5800\n",
      "Epoch 22/60\n",
      "25000/25000 [==============================] - 0s 10us/step - loss: 0.6921 - acc: 0.5790 - val_loss: 0.6921 - val_acc: 0.5831\n",
      "Epoch 23/60\n",
      "25000/25000 [==============================] - 0s 10us/step - loss: 0.6920 - acc: 0.5824 - val_loss: 0.6920 - val_acc: 0.5852\n",
      "Epoch 24/60\n",
      "25000/25000 [==============================] - 0s 10us/step - loss: 0.6919 - acc: 0.5828 - val_loss: 0.6920 - val_acc: 0.5864\n",
      "Epoch 25/60\n",
      "25000/25000 [==============================] - 0s 10us/step - loss: 0.6919 - acc: 0.5844 - val_loss: 0.6919 - val_acc: 0.5878\n",
      "Epoch 26/60\n",
      "25000/25000 [==============================] - 0s 10us/step - loss: 0.6918 - acc: 0.5839 - val_loss: 0.6918 - val_acc: 0.5889\n",
      "Epoch 27/60\n",
      "25000/25000 [==============================] - 0s 10us/step - loss: 0.6917 - acc: 0.5875 - val_loss: 0.6918 - val_acc: 0.5911\n",
      "Epoch 28/60\n",
      "25000/25000 [==============================] - 0s 10us/step - loss: 0.6917 - acc: 0.5883 - val_loss: 0.6917 - val_acc: 0.5917\n",
      "Epoch 29/60\n",
      "25000/25000 [==============================] - 0s 10us/step - loss: 0.6916 - acc: 0.5903 - val_loss: 0.6916 - val_acc: 0.5939\n",
      "Epoch 30/60\n",
      "25000/25000 [==============================] - 0s 10us/step - loss: 0.6915 - acc: 0.5921 - val_loss: 0.6916 - val_acc: 0.5949\n",
      "Epoch 31/60\n",
      "25000/25000 [==============================] - 0s 10us/step - loss: 0.6915 - acc: 0.5928 - val_loss: 0.6915 - val_acc: 0.5954\n",
      "Epoch 32/60\n",
      "25000/25000 [==============================] - 0s 11us/step - loss: 0.6914 - acc: 0.5952 - val_loss: 0.6915 - val_acc: 0.5983\n",
      "Epoch 33/60\n",
      "25000/25000 [==============================] - 0s 11us/step - loss: 0.6913 - acc: 0.5974 - val_loss: 0.6914 - val_acc: 0.6000\n",
      "Epoch 34/60\n",
      "25000/25000 [==============================] - 0s 10us/step - loss: 0.6913 - acc: 0.5985 - val_loss: 0.6913 - val_acc: 0.6019\n",
      "Epoch 35/60\n",
      "25000/25000 [==============================] - 0s 10us/step - loss: 0.6912 - acc: 0.6002 - val_loss: 0.6913 - val_acc: 0.6039\n",
      "Epoch 36/60\n",
      "25000/25000 [==============================] - 0s 10us/step - loss: 0.6911 - acc: 0.6040 - val_loss: 0.6912 - val_acc: 0.6065\n",
      "Epoch 37/60\n",
      "25000/25000 [==============================] - 0s 10us/step - loss: 0.6910 - acc: 0.6051 - val_loss: 0.6911 - val_acc: 0.6093\n",
      "Epoch 38/60\n",
      "25000/25000 [==============================] - 0s 10us/step - loss: 0.6910 - acc: 0.6088 - val_loss: 0.6911 - val_acc: 0.6125\n",
      "Epoch 39/60\n",
      "25000/25000 [==============================] - 0s 10us/step - loss: 0.6909 - acc: 0.6113 - val_loss: 0.6910 - val_acc: 0.6142\n",
      "Epoch 40/60\n",
      "25000/25000 [==============================] - 0s 10us/step - loss: 0.6908 - acc: 0.6148 - val_loss: 0.6909 - val_acc: 0.6175\n",
      "Epoch 41/60\n",
      "25000/25000 [==============================] - 0s 10us/step - loss: 0.6908 - acc: 0.6182 - val_loss: 0.6909 - val_acc: 0.6201\n",
      "Epoch 42/60\n",
      "25000/25000 [==============================] - 0s 10us/step - loss: 0.6907 - acc: 0.6198 - val_loss: 0.6908 - val_acc: 0.6214\n",
      "Epoch 43/60\n",
      "25000/25000 [==============================] - 0s 10us/step - loss: 0.6906 - acc: 0.6222 - val_loss: 0.6907 - val_acc: 0.6243\n",
      "Epoch 44/60\n",
      "25000/25000 [==============================] - 0s 10us/step - loss: 0.6905 - acc: 0.6252 - val_loss: 0.6906 - val_acc: 0.6270\n",
      "Epoch 45/60\n",
      "25000/25000 [==============================] - 0s 10us/step - loss: 0.6904 - acc: 0.6300 - val_loss: 0.6906 - val_acc: 0.6294\n",
      "Epoch 46/60\n",
      "25000/25000 [==============================] - 0s 10us/step - loss: 0.6904 - acc: 0.6322 - val_loss: 0.6905 - val_acc: 0.6321\n",
      "Epoch 47/60\n",
      "25000/25000 [==============================] - 0s 10us/step - loss: 0.6903 - acc: 0.6357 - val_loss: 0.6904 - val_acc: 0.6360\n",
      "Epoch 48/60\n",
      "25000/25000 [==============================] - 0s 10us/step - loss: 0.6902 - acc: 0.6395 - val_loss: 0.6903 - val_acc: 0.6393\n",
      "Epoch 49/60\n",
      "25000/25000 [==============================] - 0s 10us/step - loss: 0.6901 - acc: 0.6430 - val_loss: 0.6903 - val_acc: 0.6424\n",
      "Epoch 50/60\n",
      "25000/25000 [==============================] - 0s 10us/step - loss: 0.6900 - acc: 0.6466 - val_loss: 0.6902 - val_acc: 0.6444\n",
      "Epoch 51/60\n",
      "25000/25000 [==============================] - 0s 10us/step - loss: 0.6899 - acc: 0.6513 - val_loss: 0.6901 - val_acc: 0.6471\n",
      "Epoch 52/60\n",
      "25000/25000 [==============================] - 0s 11us/step - loss: 0.6899 - acc: 0.6553 - val_loss: 0.6900 - val_acc: 0.6494\n",
      "Epoch 53/60\n",
      "25000/25000 [==============================] - 0s 10us/step - loss: 0.6898 - acc: 0.6564 - val_loss: 0.6900 - val_acc: 0.6523\n",
      "Epoch 54/60\n",
      "25000/25000 [==============================] - 0s 10us/step - loss: 0.6897 - acc: 0.6584 - val_loss: 0.6899 - val_acc: 0.6547\n",
      "Epoch 55/60\n",
      "25000/25000 [==============================] - 0s 10us/step - loss: 0.6896 - acc: 0.6612 - val_loss: 0.6898 - val_acc: 0.6566\n",
      "Epoch 56/60\n",
      "25000/25000 [==============================] - 0s 10us/step - loss: 0.6895 - acc: 0.6633 - val_loss: 0.6897 - val_acc: 0.6587\n",
      "Epoch 57/60\n",
      "25000/25000 [==============================] - 0s 10us/step - loss: 0.6894 - acc: 0.6648 - val_loss: 0.6896 - val_acc: 0.6609\n",
      "Epoch 58/60\n",
      "25000/25000 [==============================] - 0s 10us/step - loss: 0.6894 - acc: 0.6683 - val_loss: 0.6896 - val_acc: 0.6627\n",
      "Epoch 59/60\n",
      "25000/25000 [==============================] - ETA: 0s - loss: 0.6893 - acc: 0.671 - 0s 10us/step - loss: 0.6893 - acc: 0.6703 - val_loss: 0.6895 - val_acc: 0.6652\n"
     ]
    },
    {
     "name": "stdout",
     "output_type": "stream",
     "text": [
      "Epoch 60/60\n",
      "25000/25000 [==============================] - 0s 10us/step - loss: 0.6892 - acc: 0.6713 - val_loss: 0.6894 - val_acc: 0.6658\n"
     ]
    }
   ],
   "source": [
    "# Training the model\n",
    "model_history = model.fit(x_train_padded,y_train,epochs=epochs,batch_size=batch_size,validation_data=(x_test_padded, y_test),verbose=1)"
   ]
  },
  {
   "cell_type": "markdown",
   "metadata": {},
   "source": [
    "# Results\n",
    "using the trained model we try to predict what are the values of images in the test set.\n",
    "\n",
    "Here we are using a threshold_function to convert the sigmoid output probality to 1's and 0's into a discrete varible distribution. Sigmoid function would output a propability, with the help of this threshold function we are converiting this propability into discrete varible of two classes determining the target classes."
   ]
  },
  {
   "cell_type": "code",
   "execution_count": 20,
   "metadata": {},
   "outputs": [],
   "source": [
    "# Results\n",
    "y_pred = model.predict(x_test_padded)\n",
    "\n",
    "def thershold_function(x): # Function to convert sigmoid outputs to 0's and 1's\n",
    "    if x>0.5:\n",
    "        return 1\n",
    "    else :\n",
    "        return 0\n",
    "thershold = np.vectorize(thershold_function)\n",
    "\n",
    "y_pred = thershold(y_pred)"
   ]
  },
  {
   "cell_type": "markdown",
   "metadata": {},
   "source": [
    "# Verifying the results\n",
    "cheking the results how good they are with the first 10 samples.   \n",
    "Plotting the graphs of test and train set accuracies and loss values. \n",
    "> NOTE: This plot is a very curicial step. These plots would tell us how good the model converges and if there is any overfitting"
   ]
  },
  {
   "cell_type": "code",
   "execution_count": 22,
   "metadata": {},
   "outputs": [
    {
     "name": "stdout",
     "output_type": "stream",
     "text": [
      "Ground truths of first 10 images in test set [0 1 1 0 1 1 1 0 0 1]\n",
      "Predicted values of first 10 image in test set [1 1 1 0 1 0 1 1 1 1]\n"
     ]
    },
    {
     "data": {
      "image/png": "[encoded data removed]",
      "text/plain": [
       "<Figure size 432x288 with 1 Axes>"
      ]
     },
     "metadata": {
      "needs_background": "light"
     },
     "output_type": "display_data"
    },
    {
     "data": {
      "image/png": "[encoded data removed]",
      "text/plain": [
       "<Figure size 432x288 with 1 Axes>"
      ]
     },
     "metadata": {
      "needs_background": "light"
     },
     "output_type": "display_data"
    }
   ],
   "source": [
    "# Verifying the results\n",
    "print(\"Ground truths of first 10 images in test set\",np.array(y_test[0:10]))\n",
    "print(\"Predicted values of first 10 image in test set\",y_pred[0:10].ravel())\n",
    "\n",
    "loss = model_history.history['loss']\n",
    "val_loss = model_history.history['val_loss']\n",
    "plt.plot(loss,label='train')\n",
    "plt.plot(val_loss,label='test')\n",
    "plt.title('loss Graph')\n",
    "plt.ylabel('precentage')\n",
    "plt.xlabel('epochs')\n",
    "plt.legend()\n",
    "plt.show()\n",
    "\n",
    "acc = model_history.history['acc']\n",
    "val_acc = model_history.history['val_acc']\n",
    "plt.plot(acc,label='train')\n",
    "plt.plot(val_acc,label='test')\n",
    "plt.title('Accuracy Graph')\n",
    "plt.ylabel('precentage')\n",
    "plt.xlabel('epochs')\n",
    "plt.legend()\n",
    "plt.show()"
   ]
  },
  {
   "cell_type": "markdown",
   "metadata": {},
   "source": [
    "# Visulizing the results\n",
    "checking the results by visulizing them and creating a confusion matrix. The values of precession and accuracy can be obtained by the help of confusion matrix and f1 scores to compare this architecure with other architectures of neural networks"
   ]
  },
  {
   "cell_type": "code",
   "execution_count": 23,
   "metadata": {},
   "outputs": [
    {
     "name": "stdout",
     "output_type": "stream",
     "text": [
      "Predicted     0     1\n",
      "Actual               \n",
      "0          9103  3397\n",
      "1          2827  9673\n"
     ]
    },
    {
     "data": {
      "text/plain": [
       "<matplotlib.axes._subplots.AxesSubplot at 0x1d8f5e4a2e8>"
      ]
     },
     "execution_count": 23,
     "metadata": {},
     "output_type": "execute_result"
    },
    {
     "data": {
      "image/png": "[encoded data removed]",
      "text/plain": [
       "<Figure size 1440x1440 with 2 Axes>"
      ]
     },
     "metadata": {
      "needs_background": "light"
     },
     "output_type": "display_data"
    }
   ],
   "source": [
    "# Visulizing the results\n",
    "y_pred = y_pred.ravel()\n",
    "y_pred = pd.Series(y_pred, name='Predicted')\n",
    "y_test = pd.Series(y_test, name='Actual')\n",
    "df_confusion  = pd.crosstab(y_test,y_pred, rownames=['Actual'], colnames=['Predicted'])\n",
    "print(df_confusion)\n",
    "plt.figure(figsize = (20,20))\n",
    "plt.xlabel('xlabel', fontsize=18)\n",
    "plt.ylabel('ylabel', fontsize=18)\n",
    "plt.title('Confusion Matrix',fontsize=20)\n",
    "sns.heatmap(df_confusion, annot=True,fmt=\"d\")"
   ]
  },
  {
   "cell_type": "code",
   "execution_count": null,
   "metadata": {},
   "outputs": [],
   "source": []
  }
 ],
 "metadata": {
  "kernelspec": {
   "display_name": "Python 3",
   "language": "python",
   "name": "python3"
  },
  "language_info": {
   "codemirror_mode": {
    "name": "ipython",
    "version": 3
   },
   "file_extension": ".py",
   "mimetype": "text/x-python",
   "name": "python",
   "nbconvert_exporter": "python",
   "pygments_lexer": "ipython3",
   "version": "3.6.7"
  }
 },
 "nbformat": 4,
 "nbformat_minor": 2
}
